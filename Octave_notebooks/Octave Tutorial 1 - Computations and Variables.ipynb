{
 "cells": [
  {
   "cell_type": "markdown",
   "metadata": {},
   "source": [
    "# 1. Octave can calculate for you.\n",
    "This tutorial will help you begin to learn how to carry out basic calculations using the Octave programming language. Because these calculations are being carried out by a computer (instead of by a human), we sometimes call them **computations**, instead. When we use lots of computations in sequence to study a physics problem, we call it **computational physics** (as opposed to theoretical or experimental physics). Similarly if you use computation in biology we call it **computational biology**.\n",
    "\n",
    "This tutorial is written in a **Jupyter notebook**, which is a document where you can construct and run Octave code.\n",
    "\n",
    "Let's start with some **basic operations**: Octave knows how to add, subtract, multiply, and divide, just like you've probably seen in a graphing calculator.\n",
    "\n",
    "Octave can also keep track of **variables**. You can name a variable anything!\n",
    "\n",
    "The **code cell** below is set up to define two variables `a` and `b` and then carry out some basic computations with them. The code's actions are described in **comments**; any text that begins with a ``%`` symbol is a comment that Matlab will ignore, allowing us to add text that we can read as a reference. \n",
    "\n",
    "Press the Run button (triangle) to **run** this code."
   ]
  },
  {
   "cell_type": "code",
   "execution_count": 6,
   "metadata": {},
   "outputs": [
    {
     "name": "stdout",
     "output_type": "stream",
     "text": [
      "\n",
      "a =\n",
      "\n",
      "     3\n",
      "\n",
      "\n",
      "b =\n",
      "\n",
      "     2\n",
      "\n",
      "\n",
      "ans =\n",
      "\n",
      "     5\n",
      "\n",
      "\n",
      "ans =\n",
      "\n",
      "     1\n",
      "\n",
      "\n",
      "ans =\n",
      "\n",
      "     6\n",
      "\n",
      "\n",
      "ans =\n",
      "\n",
      "    1.5000\n",
      "\n",
      "=====\n",
      "\n",
      "ans =\n",
      "\n",
      "     1\n",
      "\n",
      "\n",
      "ans =\n",
      "\n",
      "     2\n",
      "\n",
      "\n",
      "ans =\n",
      "\n",
      "     3\n",
      "\n",
      "\n",
      "ans =\n",
      "\n",
      "     4\n",
      "\n",
      "\n",
      "ans =\n",
      "\n",
      "     5\n",
      "\n"
     ]
    }
   ],
   "source": [
    "% Press the Run button at the top (or press SHIFT+ENTER) see what it does.\n",
    "\n",
    "% Set up two variable values.\n",
    "% This information will display on the screen.\n",
    "a = 3\n",
    "b = 2\n",
    "\n",
    "% Now perform some computations.\n",
    "% Octave displays these as \"ans,\" meaning \"answer.\"\n",
    "a + b \n",
    "a - b \n",
    "a * b \n",
    "a / b \n",
    "\n",
    "% Notice that Octave carries out this cell in order, line by line.\n",
    "% For example, the following would print the numbers 1 through 5, \n",
    "% in order, after a row of equal signs.\n",
    "disp('=====')\n",
    "1\n",
    "2\n",
    "3\n",
    "4\n",
    "5"
   ]
  },
  {
   "cell_type": "markdown",
   "metadata": {},
   "source": [
    "# 2. Checkpoint: You try.\n",
    "Click inside the code cell above. **Modify** the code cell above to carry out a few different computations, and test whether Octave obeys order of operations. How can you tell?\n",
    "\n",
    "\n",
    "<details>\n",
    "<summary>Click here for a hint if you would like it.</summary>\n",
    "Try setting up an expression like you might see in your algebra class:\n",
    "\n",
    "```\n",
    "a = 7\n",
    "b = 3\n",
    "(a+b)*b - a\n",
    "```\n",
    "\n",
    "Evaluate this expression using both Octave and a calculator.\n",
    "</details>\n",
    "\n",
    "[Double click inside this **text cell** and add your answer here. Then press Ctrl+Enter when you're done to save your answers.]\n",
    "\n",
    "A few things to notice:\n",
    "*  You can change the values of `a` and `b`. \n",
    "* You can carry out any combination of ``+`` ``-`` ``*`` or ``/``. You can also use parentheses to group numbers, just like you would in a graphing calculator. \n",
    "* You can add spaces between numbers and symbols as you like to make the code more readable.\n",
    "* If you ever get lost in your computations, you can always add a disp function with text to help you find your way. Just enter ``disp('the text you want')`` with those single quotation marks around the text you want.\n",
    "\n",
    "How is this process similar to using a graphing calculator? What advantages do you see in using code instead of a graphing calculator?"
   ]
  },
  {
   "cell_type": "markdown",
   "metadata": {},
   "source": [
    "# 3. Example: Let's calculate $e$\n",
    "\n",
    "Let's apply what we've learned in a practical problem: calculating the numerical value of $e$. We're going to use a well-known **[series expansion of $e$](https://www.mathsisfun.com/algebra/taylor-series.html)**:\n",
    "\n",
    "\\begin{equation}\n",
    "e = 1 + \\frac{1}{1!} + \\frac{1}{2!} + \\frac{1}{3!} + \\frac{1}{4!} + \\frac{1}{5!} + \\frac{1}{6!} + \\ldots\n",
    "\\end{equation}\n",
    "\n",
    "The approximation becomes more accurate the more terms we add, following this pattern. The $!$ symbol is the **[factorial](https://www.mathsisfun.com/numbers/factorial.html)**:\n",
    "\n",
    "\\begin{eqnarray}\n",
    "1! & = & 1 \\\\\n",
    "2! & = & 2 \\cdot 1 \\\\\n",
    "3! & = & 3 \\cdot 2 \\cdot 1 \\\\\n",
    "4! & = & 4 \\cdot 3 \\cdot 2 \\cdot 1 \\\\\n",
    "   & \\vdots & \\\\\n",
    "n! & = & n \\cdot (n-1) \\cdot (n-2) \\cdot \\ldots 4 \\cdot 3 \\cdot 2 \\cdot 1 \\\\\n",
    "\\end{eqnarray}\n",
    "\n",
    "Let's set up our code to calculate approximate values of $e$ by adding consecutive terms in the expansion."
   ]
  },
  {
   "cell_type": "code",
   "execution_count": 6,
   "metadata": {},
   "outputs": [
    {
     "name": "stdout",
     "output_type": "stream",
     "text": [
      "\n",
      "FirstTerm =\n",
      "\n",
      "     1\n",
      "\n",
      "1 term\n",
      "\n",
      "FirstTerm =\n",
      "\n",
      "     1\n",
      "\n",
      "\n",
      "SecondTerm =\n",
      "\n",
      "     1\n",
      "\n",
      "2 terms\n",
      "\n",
      "ans =\n",
      "\n",
      "     2\n",
      "\n",
      "\n",
      "ThirdTerm =\n",
      "\n",
      "    0.5000\n",
      "\n",
      "3 terms\n",
      "\n",
      "ans =\n",
      "\n",
      "    2.5000\n",
      "\n"
     ]
    }
   ],
   "source": [
    "FirstTerm = 1\n",
    "disp( '1 term' ) % The first term.\n",
    "FirstTerm\n",
    "\n",
    "SecondTerm = 1/1\n",
    "disp( '2 terms' ) % The first two terms.\n",
    "FirstTerm + SecondTerm\n",
    "\n",
    "ThirdTerm = 1/(2*1)\n",
    "disp( '3 terms' ) % The first three terms.\n",
    "FirstTerm + SecondTerm + ThirdTerm\n",
    "\n",
    "% Copy and paste Lines 9 through 11 in the space below.\n",
    "% Then MODIFY THE CODE to calculate FourthTerm.\n",
    "% Then MODIFY THE CODE to add it in the computation.\n",
    "\n"
   ]
  },
  {
   "cell_type": "markdown",
   "metadata": {},
   "source": [
    "# 4. Checkpoint: Add another term.\n",
    "\n",
    "In the code cell above, copy and paste Lines 9-11. In your new copy, **modify** the code to calculate `FourthTerm` and add ``FourthTerm`` to the ``print`` command. How close is your new approximation for $e$ to the actual value of $2.71828182846$? \n",
    "\n",
    "\n",
    "<details>\n",
    "<summary>Click here for an answer.</summary>\n",
    "Here's one way to add the fourth term, starting in line 16:\n",
    "\n",
    "```\n",
    "print( '4 terms' )\n",
    "FourthTerm = 1/(3*2*1)\n",
    "FirstTerm + SecondTerm + ThirdTerm + FourthTerm\n",
    "```\n",
    "\n",
    "</details>\n",
    "\n",
    "\n",
    "\n",
    "(Check: You should get a value of 2.667. If you didn't, find the mistake and fix it. You get unlimited attempts in computational physics!)"
   ]
  },
  {
   "cell_type": "markdown",
   "metadata": {},
   "source": [
    "# 5. You can progressively change a variable's value.\n",
    "We often **change** a variable's value. For example, if we were to write\n",
    "\n",
    "```\n",
    "a = 7\n",
    "a = 2 * a\n",
    "a\n",
    "```\n",
    "\n",
    "we would have an output of ``14``. The variable ``a`` is now equal to 14 instead of its original 7. This is where we need to note that the ``=`` in Octave is not an equals sign like you see in your math class; it's an **assignment operator** that tells Matlab to compute the math on the right and **assign** that value to the variable ``a``. **It doesn't matter if ``a`` is used on both sides**, since Matlab can just overwrite the previous value of ``a``. Think of this as like saving a new version of a document: You don't need the old version anymore, so your computer uses the same filename to save the new version.\n",
    "\n",
    "**Run** the next code cell to see another example of variable reassignment."
   ]
  },
  {
   "cell_type": "code",
   "execution_count": 7,
   "metadata": {},
   "outputs": [
    {
     "name": "stdout",
     "output_type": "stream",
     "text": [
      "\n",
      "a =\n",
      "\n",
      "     2\n",
      "\n",
      "\n",
      "output =\n",
      "\n",
      "     2\n",
      "\n",
      "\n",
      "output =\n",
      "\n",
      "     4\n",
      "\n",
      "\n",
      "output =\n",
      "\n",
      "     8\n",
      "\n",
      "\n",
      "output =\n",
      "\n",
      "    16\n",
      "\n"
     ]
    }
   ],
   "source": [
    "% Take the number we want to work with and store it\n",
    "% under the name a.\n",
    "a = 2\n",
    "\n",
    "output = a\n",
    "\n",
    "output = output * a\n",
    "\n",
    "output = output * a\n",
    "\n",
    "output = output * a\n"
   ]
  },
  {
   "cell_type": "markdown",
   "metadata": {},
   "source": [
    "# 6. Checkpoint\n",
    "How does the code cell above change the value of ``output``? Does the value of ``a`` ever change?\n",
    "\n",
    "<details>\n",
    "<summary>Click here for an answer.</summary>\n",
    "\n",
    "The code cell multiplies ``output`` by ``a`` each time. Since ``a`` is 2, it **doubles** this value each time. On the other hand, since we never see ``a = `` after Line 3, ``a`` never changes!\n",
    "\n",
    "</details>"
   ]
  },
  {
   "cell_type": "markdown",
   "metadata": {},
   "source": [
    "# 7. Example: Renaming variables make calculating $e$ easier\n",
    "The code cell below carries out the same calculation of $e$ as above, but this time we rename variables to make the code both easier to read and simpler to edit. **Run** the code cell and notice how you get the same output as before!"
   ]
  },
  {
   "cell_type": "code",
   "execution_count": 2,
   "metadata": {},
   "outputs": [
    {
     "name": "stdout",
     "output_type": "stream",
     "text": [
      "1 term\n",
      "\n",
      "eEstimate =\n",
      "\n",
      "     1\n",
      "\n",
      "\n",
      "NextFactorial =\n",
      "\n",
      "     1\n",
      "\n",
      "2 terms\n",
      "\n",
      "eEstimate =\n",
      "\n",
      "     2\n",
      "\n",
      "2 terms\n",
      "\n",
      "NextFactorial =\n",
      "\n",
      "     2\n",
      "\n",
      "\n",
      "eEstimate =\n",
      "\n",
      "    2.5000\n",
      "\n",
      "3 terms\n",
      "\n",
      "NextFactorial =\n",
      "\n",
      "     6\n",
      "\n",
      "\n",
      "eEstimate =\n",
      "\n",
      "    2.6667\n",
      "\n"
     ]
    }
   ],
   "source": [
    "disp( '1 term' )\n",
    "eEstimate = 1\n",
    "\n",
    "NextFactorial = 1\n",
    "disp( '2 terms' )\n",
    "eEstimate = eEstimate + 1/NextFactorial\n",
    "\n",
    "disp( '2 terms' )\n",
    "NextFactorial = NextFactorial * 2\n",
    "eEstimate = eEstimate + 1/NextFactorial\n",
    "\n",
    "disp( '3 terms' )\n",
    "NextFactorial = NextFactorial * 3\n",
    "eEstimate = eEstimate + 1/NextFactorial\n",
    "\n",
    "% Copy and paste Lines 12 through 14 below, then ADD CODE to add the fourth term \n",
    "% of the series in the print statement.\n"
   ]
  },
  {
   "cell_type": "markdown",
   "metadata": {},
   "source": [
    "# 8. Checkpoint: You try!\n",
    "\n",
    "Now copy and paste Lines 12 through 14 and modify them to add the fourth term. You should get 2.708.\n",
    "\n",
    "In what ways is it easier to update variables than to create a new name each time?\n",
    "\n",
    "<details>\n",
    "<summary>Click here for an answer.</summary>\n",
    "\n",
    "```\n",
    "print( '4 terms' )\n",
    "NextFactorial = NextFactorial * 4\n",
    "eEstimate = eEstimate + 1/NextFactorial\n",
    "```\n",
    "\n",
    "Almost too simple!\n",
    "\n",
    "</details>\n"
   ]
  },
  {
   "cell_type": "markdown",
   "metadata": {},
   "source": [
    "# 9. Common errors to watch for.\n",
    "~~Sometimes~~ Inevitably, when preparing a code, we make mistakes. These mistakes might be physics errors (such as entering the wrong formula) or simply typing errors that cause the code to fail. This is okay. No one writes an essay perfectly the first time, and no one writes a code perfectly the first time. Fortunately, Matlab tries to help us find these mistakes through **error messages**.\n",
    "\n",
    "Think of an error message as feedback. The message is meant to show you approximately where the error is located in the code and what Matlab was trying to do when the error occured. Sometimes Matlab's error messages will tell you exactly what you need to fix; other times, you'll have to dig around. But either way, the goal is to help make your code better.\n",
    "\n",
    "For example, while preparing this tutorial, I typed typed the following code:\n",
    "\n",
    "`` disp( 1 + 1/1 + 1/2``\n",
    "\n",
    "and then received the following error message\n",
    "\n",
    "``Error: This statement is incomplete.``\n",
    "\n",
    "In other words, **I'm missing something.** If I look carefully over the line of code, **I see that I'm missing a ``)`` to close out the disp command.** This happens to me all the time! It just means I was distracted and thought I was done with this line of code when I really needed one more thing. So, I added the ``)`` character and the code ran fine!\n",
    "\n",
    "You will learn to interpret error messages and fix errors through experience. There isn't really a formal way for your instructor to **teach** this process to you other than to provide feedback when an error message arises. So, when you recieve an error message, try the following:\n",
    "\n",
    "1. Read the message and try to extract whatever meaning you can.\n",
    "2. Go back over the code and see if there's something you missed. This is like proofreading a written document; pretend like you're reading it for the first time, and if something doesn't make sense, it might be a problem! \n",
    "3. Save a backup of your code, and try to fix the error. You can't possibly make it any worse!\n",
    "4. If that doesn't work, try googling the error message. **You are not the first person this has happened to** and the answer is probably documented somewhere on-line.\n",
    "5. Contact your instructor, or ask a classmate to look over your code. Again, you're not the first person to see this error, and they can likely help!\n",
    "\n",
    "# 10. Checkpoint: You try.\n",
    "Each of the two code cells below has an error. Find the error, and fix it. \n",
    "\n",
    "<details>\n",
    "<summary>Click here for an answer.</summary>\n",
    "The first cell misspells ``oddNumber`` as ``OddNumber`` - The capital matters!\n",
    "\n",
    "The second cell is missing a ``(``.\n",
    "\n",
    "</details>\n",
    "\n"
   ]
  },
  {
   "cell_type": "code",
   "execution_count": 2,
   "metadata": {},
   "outputs": [
    {
     "name": "stdout",
     "output_type": "stream",
     "text": [
      "\n",
      "oddNumber =\n",
      "\n",
      "     1\n",
      "\n"
     ]
    },
    {
     "name": "stderr",
     "output_type": "stream",
     "text": [
      "\u001b[0;31mError using eval\n",
      "Undefined function or variable 'OddNumber'.\n",
      "\n",
      "\u001b[0m"
     ]
    }
   ],
   "source": [
    "% Print the odd numbers between 1 and 10.\n",
    "\n",
    "oddNumber = 1\n",
    "\n",
    "OddNumber = OddNumber + 2\n",
    "OddNumber = OddNumber + 2\n",
    "OddNumber = OddNumber + 2\n",
    "OddNumber = OddNumber + 2\n",
    "\n",
    "print('finished')"
   ]
  },
  {
   "cell_type": "code",
   "execution_count": 4,
   "metadata": {},
   "outputs": [
    {
     "name": "stderr",
     "output_type": "stream",
     "text": [
      "\u001b[0;31mError: Invalid expression. When calling a function or indexing a variable, use parentheses. Otherwise, check for mismatched delimiters.\n",
      "\n",
      "\u001b[0m"
     ]
    }
   ],
   "source": [
    "% Calculate the average of three numbers a, b, and c.\n",
    "\n",
    "a = 3\n",
    "b = 7\n",
    "c = 10\n",
    "\n",
    "average = a + b + c) / 3\n",
    "print(average)"
   ]
  },
  {
   "cell_type": "markdown",
   "metadata": {},
   "source": [
    "# 11. You try: Calculate gravitational potential energy\n",
    "\n",
    "Now let's give you a turn. Your goal in this exercise is to set up a code cell that can calculate the gravitational potential energy between a planet and a star.\n",
    "\n",
    "As a reminder, this gravitational potential energy is given by\n",
    "\n",
    "\\begin{equation}\n",
    "U = -\\frac{G m_1 m_2}{r},\n",
    "\\end{equation}\n",
    "where $G$ is the universal gravitational constant, the $m$s are the masses of each object, and $r$ is the distance between the two objects.\n",
    "\n",
    "I've already set up some variables for you. \n",
    "* Can you provide the rest of the variables, and then set up the calculation of $U$ using those variables? \n",
    "* What else do you need to add in order for Octave to show you the value of U?\n",
    "* Can you test your code by calculating the gravitational potential energy between the earth and the sun?"
   ]
  },
  {
   "cell_type": "code",
   "execution_count": 5,
   "metadata": {},
   "outputs": [
    {
     "name": "stdout",
     "output_type": "stream",
     "text": [
      "\n",
      "G =\n",
      "\n",
      "   6.6700e-11\n",
      "\n",
      "\n",
      "m1 =\n",
      "\n",
      "   1.9890e+30\n",
      "\n"
     ]
    }
   ],
   "source": [
    "G = 6.67 * 10^-11 \n",
    "m1 = 1.989 * 10^30\n",
    "m2 = \n",
    "r = \n",
    "\n",
    "U = "
   ]
  }
 ],
 "metadata": {
  "kernelspec": {
   "display_name": "Matlab",
   "language": "matlab",
   "name": "matlab"
  },
  "language_info": {
   "codemirror_mode": "octave",
   "file_extension": ".m",
   "help_links": [
    {
     "text": "MetaKernel Magics",
     "url": "https://github.com/calysto/metakernel/blob/master/metakernel/magics/README.md"
    }
   ],
   "mimetype": "text/x-octave",
   "name": "matlab",
   "version": "0.15.1"
  }
 },
 "nbformat": 4,
 "nbformat_minor": 2
}
