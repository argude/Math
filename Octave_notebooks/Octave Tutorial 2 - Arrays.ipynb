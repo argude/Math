{
 "cells": [
  {
   "cell_type": "markdown",
   "metadata": {},
   "source": [
    "### Prerequisites\n",
    "Octave Tutorial 1\n",
    "\n",
    "# 1. Recap\n",
    "\n",
    "In Octave Tutorial 1, you learned that Octave allows you to store numerical values in **variables** that you can then use to carry out **computations**. You saw that using Octave offers advantages over using a calcualtor and that you can carry out some fairly intensive processes with relatively short snippets of code.\n",
    "\n",
    "In this tutorial, you'll learn how you can efficiently store many data values in **arrays**, which allows you to easily access these values from a single variable name."
   ]
  },
  {
   "cell_type": "markdown",
   "metadata": {},
   "source": [
    "# 2. Why arrays?\n",
    "\n",
    "Let's suppose you had a class of 30 first-graders, and you wanted to record each of their heights at the beginning of the semester for a class science project. \n",
    "\n",
    "You *could* store this information like so:\n",
    "\n",
    "``BethInitialHeight = 42\n",
    "DavidInitialHeight = 45\n",
    "DominiqueInitialHeight = 46\n",
    "TanishaIniitalHeight = 43\n",
    "...``\n",
    "\n",
    "taking up 30 lines to set up your data. If you wanted to repeat this project next school year, you would presumably need to change all these variable names... Time consuming. It doesn't get much better if you use numbers instead, since you'd still have 30 lines like\n",
    "\n",
    "``InitialHeight1 = 42\n",
    "InitialHeight2 = 45\n",
    "InitialHeight3 = 46\n",
    "IniitalHeight4 = 43\n",
    "...``\n",
    "\n",
    "and you would need to type out each one any time you wanted to calculate an average, create a bar graph, etc.\n",
    "\n",
    "You would likely find it more convenient to store this data set in an **array**. The following code cell sets up an array of student height data."
   ]
  },
  {
   "cell_type": "code",
   "execution_count": 1,
   "metadata": {},
   "outputs": [
    {
     "name": "stdout",
     "output_type": "stream",
     "text": [
      "the whole array is\n",
      "  Columns 1 through 13\n",
      "\n",
      "    42    45    46    43    41    48    40    44    47    42    45    43    41\n",
      "\n",
      "  Column 14\n",
      "\n",
      "    42\n",
      "\n",
      "element 2 is\n",
      "    45\n",
      "\n",
      "elements 2 through 7 are\n",
      "    45    46    43    41    48    40\n",
      "\n"
     ]
    }
   ],
   "source": [
    "% Create an array with the listed elements.\n",
    "% Note that the ; tells Octave to not show the output of this line.\n",
    "% Octave still carries it out, though!\n",
    "StudentHeights = [42,45,46,43,41,48,40,44,47,42,45,43,41,42];\n",
    "\n",
    "% Display some information.\n",
    "disp('the whole array is')\n",
    "disp(StudentHeights)\n",
    "disp('element 2 is')\n",
    "disp(StudentHeights(2))\n",
    "disp('elements 2 through 7 are')\n",
    "disp(StudentHeights(2:7))\n"
   ]
  },
  {
   "cell_type": "markdown",
   "metadata": {},
   "source": [
    "# 3. Checkpoint\n",
    "\n",
    "**Run** the code cell above. Describe the printed output of this cell. What information does each printed line tell you? How does the code tell Octave to produce this output?\n",
    "\n",
    "<details>\n",
    "<summary>Click here for an answer.</summary>\n",
    "The first line shows all the array elements in order. This is what ``StudentHeights`` looks like to the computer.\n",
    "\n",
    "The second line prints \"element 2.\"\n",
    "\n",
    "The third line prints a subset of the array, starting at element 2 and going through element 7.\n",
    "\n",
    "</details>\n",
    "\n",
    "**Modify** the code cell above to show you elements 3 through 13 of the array."
   ]
  },
  {
   "cell_type": "markdown",
   "metadata": {},
   "source": [
    "# 4. How does an array work?\n",
    "\n",
    "We call the numbers in ``StudentHeights[numbers]`` in the code cell above **array indices**. An array's index can run from 1 (the left-most element) to the number of elements (the right-most element). \n",
    "\n",
    "This is useful, for example, in our calculation of $e$ from Octave Tutorial 1, where we were evaluating many terms in a series expansion. We could rewrite our code from Octave Tutorial 1 using arrays as follows:"
   ]
  },
  {
   "cell_type": "code",
   "execution_count": 8,
   "metadata": {},
   "outputs": [
    {
     "name": "stdout",
     "output_type": "stream",
     "text": [
      "\n",
      "Terms =\n",
      "\n",
      "    1.0000    1.0000    0.5000    0.1667\n",
      "\n",
      "\n",
      "eEstimate =\n",
      "\n",
      "    2.6667\n",
      "\n"
     ]
    }
   ],
   "source": [
    "Terms = [ 1, 1, 1/(2*1), 1/(3*2*1) ]\n",
    "\n",
    "eEstimate = Terms(1) + Terms(2) + Terms(3) + Terms(4) % Add terms together.\n"
   ]
  },
  {
   "cell_type": "markdown",
   "metadata": {},
   "source": [
    "# 5. Checkpoint: You try.\n",
    "\n",
    "**Add code** to add the next term in the series expansion to the list `Terms` in Line 1. Don't forget to add a comma at the end of the previous term, so Octave knows these are separate elements. Then, **add code** to add your new term (using an array index) to the computation in Line 3. Check that you get the same answer for ``eEstimate`` that you did in Octave Tutorial 1.\n",
    "\n",
    "<details>\n",
    "<summary>Click here for an answer.</summary>\n",
    "\n",
    "```\n",
    "Terms = [ 1, 1, 1/(2*1), 1/(3*2*1), 1/(4*3*2*1) ]\n",
    "\n",
    "eEstimate = Terms(1) + Terms(2) + Terms(3) + Terms(4) + Terms(5) % Add terms together.\n",
    "```\n",
    "\n",
    "</details>\n",
    "\n",
    "\n",
    "\n",
    "What advantages do you find working with an array for this computation?"
   ]
  },
  {
   "cell_type": "markdown",
   "metadata": {},
   "source": [
    "# 6. Functions you might use with an array.\n",
    "\n",
    "One reason we like to use arrays in Octave is because it includes functions we can carry out on arrays. For example, let's suppose we wanted to calculate the average height of our class of first graders. We could use the ``mean()`` function:"
   ]
  },
  {
   "cell_type": "code",
   "execution_count": 9,
   "metadata": {},
   "outputs": [
    {
     "name": "stdout",
     "output_type": "stream",
     "text": [
      "\n",
      "ans =\n",
      "\n",
      "   43.5000\n",
      "\n"
     ]
    }
   ],
   "source": [
    "% Create an array with the listed elements.\n",
    "StudentHeights = [42,45,46,43,41,48,40,44,47,42,45,43,41,42];\n",
    "\n",
    "% Calculate the average height.\n",
    "mean(StudentHeights)"
   ]
  },
  {
   "cell_type": "markdown",
   "metadata": {},
   "source": [
    "# 7. Checkpoint: You try.\n",
    "\n",
    "**Add code** to try out the following functions on our array of student heights. Google search \"Octave\" plus the name of each function to learn about it. What information does the function give you? \n",
    "\n",
    "* ``length()``\n",
    "* ``sum()``\n",
    "* ``prod()``\n",
    "* ``std()``\n",
    "* ``sin()``\n",
    "* ``exp()``\n",
    "\n",
    "<details>\n",
    "<summary>Click here for an answer.</summary>\n",
    "\n",
    "* ``length()`` = How many elements are the array?\n",
    "* ``sum()`` = What is the total of all the array elements?\n",
    "* ``prod()`` = What is the product of all the array elements?\n",
    "* ``std()`` = What is the standard deviation of all the array elements?\n",
    "* ``sin()`` = What is the sine of each array element? This produces another array!\n",
    "* ``exp()`` = What is $e$ to the power of of each array element? This produces another array!\n",
    "\n",
    "</details>\n",
    "\n",
    "\n",
    "\n",
    "Which of these functions would be useful in our code for calculating $e$ with a series expansion? (There might be more than one.) Try it/them out!"
   ]
  },
  {
   "cell_type": "markdown",
   "metadata": {},
   "source": [
    "# 8. Arrays make math very convenient.\n",
    "\n",
    "I hope you noticed the power of the ``sin()`` and ``exp()`` functions above, in that **Octave will act on all elements** of the array. So, if you wanted to get the square of all integers between 1 and 10, you could do the following:"
   ]
  },
  {
   "cell_type": "code",
   "execution_count": 14,
   "metadata": {},
   "outputs": [
    {
     "name": "stdout",
     "output_type": "stream",
     "text": [
      "\n",
      "integers =\n",
      "\n",
      "     1     2     3     4     5     6     7     8     9    10\n",
      "\n",
      "\n",
      "ans =\n",
      "\n",
      "     1     4     9    16    25    36    49    64    81   100\n",
      "\n"
     ]
    }
   ],
   "source": [
    "integers = [1,2,3,4,5,6,7,8,9,10]\n",
    "integers.^2 % The . tells Octave to raise each element of integers to the power 2."
   ]
  },
  {
   "cell_type": "markdown",
   "metadata": {},
   "source": [
    "What would you do if you wanted to square **only** the 2nd element of the array ``integers`` and ignore the other elements?\n",
    "\n",
    "<details>\n",
    "<summary>Click here for an answer.</summary>\n",
    "\n",
    "```\n",
    "intergers(2) = 10 %tells the Octave to change only the second element of the array 10  )\n",
    "intergers(2) = integers(2).^2  %tells the Octave to raise to the power of 2 only the second term in the array)\n",
    "```\n",
    "\n",
    "</details>\n",
    "\n",
    "\n",
    "\n",
    "There are even more tricks with arrays that can make your mathematical work convenient. For example, instead of manually typing all the integers in the code cell above, I could use ``linspace``. What does ``linspace`` do for us in the code cell below? (Google search ``Octave linspace`` to learn more.) How is this more efficient?"
   ]
  },
  {
   "cell_type": "code",
   "execution_count": 17,
   "metadata": {},
   "outputs": [
    {
     "name": "stdout",
     "output_type": "stream",
     "text": [
      "\n",
      "integers =\n",
      "\n",
      "     1     2     3     4     5     6     7     8     9    10\n",
      "\n",
      "\n",
      "ans =\n",
      "\n",
      "     1     4     9    16    25    36    49    64    81   100\n",
      "\n"
     ]
    }
   ],
   "source": [
    "integers = linspace(1,10,10)\n",
    "integers.^2 % The . tells Octave to raise each element of integers to the power 2."
   ]
  },
  {
   "cell_type": "markdown",
   "metadata": {},
   "source": [
    "We'll use these conveniences with our $e$ code later once we've learned about loops. Arrays with loops are one of the most powerful combinations in Octave."
   ]
  },
  {
   "cell_type": "markdown",
   "metadata": {},
   "source": [
    "# 9. Checkpoint\n",
    "\n",
    "Why is it advantageous for Octave to act on all elements of an array at once?\n",
    "\n",
    "How might you write a code that changes **only one** element of an array? (Hint: Think back to array indices.) Try out your proposed method in the code cell above to change the left-most element of ``integers`` to a value of 0.\n",
    "\n",
    "<details>\n",
    "<summary>Click here for an answer.</summary>\n",
    "\n",
    "Suppose you defined an array ``myArray``. You could change one element using something like:\n",
    "\n",
    "```\n",
    "myArray(3) = aNewValue\n",
    "```\n",
    "\n",
    "</details>\n",
    "\n"
   ]
  },
  {
   "cell_type": "markdown",
   "metadata": {},
   "source": [
    "# 10. Common errors to watch for.\n",
    "\n",
    "The most common error people run into with arrays is **asking Octave for an index that isn't there**. Where does this error occur in the code cell below? How can you tell?\n",
    "\n",
    "<details>\n",
    "<summary>Click here for an answer.</summary>\n",
    "\n",
    "In Line 8, we attempt to access an element 62 that doesn't exist.\n",
    "\n",
    "</details>\n",
    "\n"
   ]
  },
  {
   "cell_type": "code",
   "execution_count": 19,
   "metadata": {},
   "outputs": [
    {
     "name": "stdout",
     "output_type": "stream",
     "text": [
      "\n",
      "ArrayA =\n",
      "\n",
      "  Columns 1 through 7\n",
      "\n",
      "         0    0.0101    0.0202    0.0303    0.0404    0.0505    0.0606\n",
      "\n",
      "  Columns 8 through 14\n",
      "\n",
      "    0.0707    0.0808    0.0909    0.1010    0.1111    0.1212    0.1313\n",
      "\n",
      "  Columns 15 through 21\n",
      "\n",
      "    0.1414    0.1515    0.1616    0.1717    0.1818    0.1919    0.2020\n",
      "\n",
      "  Columns 22 through 28\n",
      "\n",
      "    0.2121    0.2222    0.2323    0.2424    0.2525    0.2626    0.2727\n",
      "\n",
      "  Columns 29 through 35\n",
      "\n",
      "    0.2828    0.2929    0.3030    0.3131    0.3232    0.3333    0.3434\n",
      "\n",
      "  Columns 36 through 42\n",
      "\n",
      "    0.3535    0.3636    0.3737    0.3838    0.3939    0.4040    0.4141\n",
      "\n",
      "  Columns 43 through 49\n",
      "\n",
      "    0.4242    0.4343    0.4444    0.4545    0.4646    0.4747    0.4848\n",
      "\n",
      "  Columns 50 through 56\n",
      "\n",
      "    0.4949    0.5051    0.5152    0.5253    0.5354    0.5455    0.5556\n",
      "\n",
      "  Columns 57 through 63\n",
      "\n",
      "    0.5657    0.5758    0.5859    0.5960    0.6061    0.6162    0.6263\n",
      "\n",
      "  Columns 64 through 70\n",
      "\n",
      "    0.6364    0.6465    0.6566    0.6667    0.6768    0.6869    0.6970\n",
      "\n",
      "  Columns 71 through 77\n",
      "\n",
      "    0.7071    0.7172    0.7273    0.7374    0.7475    0.7576    0.7677\n",
      "\n",
      "  Columns 78 through 84\n",
      "\n",
      "    0.7778    0.7879    0.7980    0.8081    0.8182    0.8283    0.8384\n",
      "\n",
      "  Columns 85 through 91\n",
      "\n",
      "    0.8485    0.8586    0.8687    0.8788    0.8889    0.8990    0.9091\n",
      "\n",
      "  Columns 92 through 98\n",
      "\n",
      "    0.9192    0.9293    0.9394    0.9495    0.9596    0.9697    0.9798\n",
      "\n",
      "  Columns 99 through 100\n",
      "\n",
      "    0.9899    1.0000\n",
      "\n",
      "\n",
      "ArrayB =\n",
      "\n",
      "  Columns 1 through 7\n",
      "\n",
      "    1.0000    1.0204    1.0408    1.0612    1.0816    1.1020    1.1224\n",
      "\n",
      "  Columns 8 through 14\n",
      "\n",
      "    1.1429    1.1633    1.1837    1.2041    1.2245    1.2449    1.2653\n",
      "\n",
      "  Columns 15 through 21\n",
      "\n",
      "    1.2857    1.3061    1.3265    1.3469    1.3673    1.3878    1.4082\n",
      "\n",
      "  Columns 22 through 28\n",
      "\n",
      "    1.4286    1.4490    1.4694    1.4898    1.5102    1.5306    1.5510\n",
      "\n",
      "  Columns 29 through 35\n",
      "\n",
      "    1.5714    1.5918    1.6122    1.6327    1.6531    1.6735    1.6939\n",
      "\n",
      "  Columns 36 through 42\n",
      "\n",
      "    1.7143    1.7347    1.7551    1.7755    1.7959    1.8163    1.8367\n",
      "\n",
      "  Columns 43 through 49\n",
      "\n",
      "    1.8571    1.8776    1.8980    1.9184    1.9388    1.9592    1.9796\n",
      "\n",
      "  Column 50\n",
      "\n",
      "    2.0000\n",
      "\n",
      "\n",
      "ArrayA =\n",
      "\n",
      "  Columns 1 through 7\n",
      "\n",
      "    1.0000    0.0101    0.0202    0.0303    0.0404    0.0505    0.0606\n",
      "\n",
      "  Columns 8 through 14\n",
      "\n",
      "    0.0707    0.0808    0.0909    0.1010    0.1111    0.1212    0.1313\n",
      "\n",
      "  Columns 15 through 21\n",
      "\n",
      "    0.1414    0.1515    0.1616    0.1717    0.1818    0.1919    0.2020\n",
      "\n",
      "  Columns 22 through 28\n",
      "\n",
      "    0.2121    0.2222    0.2323    0.2424    0.2525    0.2626    0.2727\n",
      "\n",
      "  Columns 29 through 35\n",
      "\n",
      "    0.2828    0.2929    0.3030    0.3131    0.3232    0.3333    0.3434\n",
      "\n",
      "  Columns 36 through 42\n",
      "\n",
      "    0.3535    0.3636    0.3737    0.3838    0.3939    0.4040    0.4141\n",
      "\n",
      "  Columns 43 through 49\n",
      "\n",
      "    0.4242    0.4343    0.4444    0.4545    0.4646    0.4747    0.4848\n",
      "\n",
      "  Columns 50 through 56\n",
      "\n",
      "    0.4949    0.5051    0.5152    0.5253    0.5354    0.5455    0.5556\n",
      "\n",
      "  Columns 57 through 63\n",
      "\n",
      "    0.5657    0.5758    0.5859    0.5960    0.6061    0.6162    0.6263\n",
      "\n",
      "  Columns 64 through 70\n",
      "\n",
      "    0.6364    0.6465    0.6566    0.6667    0.6768    0.6869    0.6970\n",
      "\n",
      "  Columns 71 through 77\n",
      "\n",
      "    0.7071    0.7172    0.7273    0.7374    0.7475    0.7576    0.7677\n",
      "\n",
      "  Columns 78 through 84\n",
      "\n",
      "    0.7778    0.7879    0.7980    0.8081    0.8182    0.8283    0.8384\n",
      "\n",
      "  Columns 85 through 91\n",
      "\n",
      "    0.8485    0.8586    0.8687    0.8788    0.8889    0.8990    0.9091\n",
      "\n",
      "  Columns 92 through 98\n",
      "\n",
      "    0.9192    0.9293    0.9394    0.9495    0.9596    0.9697    0.9798\n",
      "\n",
      "  Columns 99 through 100\n",
      "\n",
      "    0.9899    1.0000\n",
      "\n",
      "\n",
      "ArrayA =\n",
      "\n",
      "  Columns 1 through 7\n",
      "\n",
      "    1.0000    0.0101    0.0202    0.0303    0.0404    0.0505    0.0606\n",
      "\n",
      "  Columns 8 through 14\n",
      "\n",
      "    0.0707    0.0808    0.0909    0.1010    0.1111    0.1212    0.1313\n",
      "\n",
      "  Columns 15 through 21\n",
      "\n",
      "    0.1414    0.1515    0.1616    0.1717    0.1818    0.1919    0.2020\n",
      "\n",
      "  Columns 22 through 28\n",
      "\n",
      "    0.2121    0.2222    0.2323    0.2424    0.2525    0.2626    0.2727\n",
      "\n",
      "  Columns 29 through 35\n",
      "\n",
      "    0.2828    2.5993    0.3030    0.3131    0.3232    0.3333    0.3434\n",
      "\n",
      "  Columns 36 through 42\n",
      "\n",
      "    0.3535    0.3636    0.3737    0.3838    0.3939    0.4040    0.4141\n",
      "\n",
      "  Columns 43 through 49\n",
      "\n",
      "    0.4242    0.4343    0.4444    0.4545    0.4646    0.4747    0.4848\n",
      "\n",
      "  Columns 50 through 56\n",
      "\n",
      "    0.4949    0.5051    0.5152    0.5253    0.5354    0.5455    0.5556\n",
      "\n",
      "  Columns 57 through 63\n",
      "\n",
      "    0.5657    0.5758    0.5859    0.5960    0.6061    0.6162    0.6263\n",
      "\n",
      "  Columns 64 through 70\n",
      "\n",
      "    0.6364    0.6465    0.6566    0.6667    0.6768    0.6869    0.6970\n",
      "\n",
      "  Columns 71 through 77\n",
      "\n",
      "    0.7071    0.7172    0.7273    0.7374    0.7475    0.7576    0.7677\n",
      "\n",
      "  Columns 78 through 84\n",
      "\n",
      "    0.7778    0.7879    0.7980    0.8081    0.8182    0.8283    0.8384\n",
      "\n",
      "  Columns 85 through 91\n",
      "\n",
      "    0.8485    0.8586    0.8687    0.8788    0.8889    0.8990    0.9091\n",
      "\n",
      "  Columns 92 through 98\n",
      "\n",
      "    0.9192    0.9293    0.9394    0.9495    0.9596    0.9697    0.9798\n",
      "\n",
      "  Columns 99 through 100\n",
      "\n",
      "    0.9899    1.0000\n",
      "\n"
     ]
    },
    {
     "name": "stderr",
     "output_type": "stream",
     "text": [
      "\u001b[0;31mIndex exceeds array bounds.\n",
      "\n",
      "\u001b[0m"
     ]
    }
   ],
   "source": [
    "ArrayA = linspace(0,1,100)\n",
    "ArrayB = linspace(1,2,50)\n",
    "\n",
    "ArrayA(1) = ArrayA(1) + ArrayB(1)\n",
    "\n",
    "ArrayA(30) = ArrayB(31)^2\n",
    "\n",
    "ArrayA(60) = ArrayB(62) / ArrayB(10)"
   ]
  },
  {
   "cell_type": "markdown",
   "metadata": {},
   "source": [
    "# 11. You try.\n",
    "\n",
    "You previously developed a code cell that would calculate the gravitational potential energy $U$ for two objects separated by a distance $r$. Copy and paste that code below, and make the following changes:\n",
    "\n",
    "1. Create an array of values for $r$. Use ``np.linspace()`` to create an array with many values; you can choose the range.\n",
    "2. Create an array of values for $U$ at **each** of those values of $r$. Use the convenient array math that Octave offers.\n",
    "\n",
    "Describe an example of a project in which these arrays of $r$ and $U$ values might be useful.\n"
   ]
  },
  {
   "cell_type": "code",
   "execution_count": null,
   "metadata": {},
   "outputs": [],
   "source": [
    "# Paste and modify your code here."
   ]
  }
 ],
 "metadata": {
  "kernelspec": {
   "display_name": "Octave",
   "language": "matlab",
   "name": "matlab"
  },
  "language_info": {
   "codemirror_mode": "octave",
   "file_extension": ".m",
   "help_links": [
    {
     "text": "MetaKernel Magics",
     "url": "https://github.com/calysto/metakernel/blob/master/metakernel/magics/README.md"
    }
   ],
   "mimetype": "text/x-octave",
   "name": "matlab",
   "version": "0.15.1"
  }
 },
 "nbformat": 4,
 "nbformat_minor": 2
}
